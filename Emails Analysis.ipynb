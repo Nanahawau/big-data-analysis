{
 "cells": [
  {
   "cell_type": "markdown",
   "metadata": {
    "application/vnd.databricks.v1+cell": {
     "cellMetadata": {
      "byteLimit": 2048000,
      "rowLimit": 10000
     },
     "inputWidgets": {},
     "nuid": "acf3bfa4-9adf-40b0-8ea2-0d47506e5bb6",
     "showTitle": false,
     "tableResultSettingsMap": {},
     "title": ""
    }
   },
   "source": [
    "### Question C:\n",
    "- Who are the top ten senders (based on the 'From’ field) who received no emails themselves (based on the 'To’ field)"
   ]
  },
  {
   "cell_type": "code",
   "execution_count": 0,
   "metadata": {
    "application/vnd.databricks.v1+cell": {
     "cellMetadata": {
      "byteLimit": 2048000,
      "rowLimit": 10000
     },
     "inputWidgets": {},
     "nuid": "e34959a7-3807-4e5a-8d3f-4c58e5809348",
     "showTitle": false,
     "tableResultSettingsMap": {},
     "title": ""
    }
   },
   "outputs": [
    {
     "output_type": "stream",
     "name": "stdout",
     "output_type": "stream",
     "text": [
      "Out[1]: [FileInfo(path='dbfs:/FileStore/tables/emails.csv', name='emails.csv', size=1426122219, modificationTime=1739962882000)]"
     ]
    }
   ],
   "source": [
    "file_directory = \"/FileStore/tables\"\n",
    "file_name = \"/emails.csv\"\n",
    "file_path = file_directory + file_name\n",
    "dbutils.fs.ls(file_path)"
   ]
  },
  {
   "cell_type": "code",
   "execution_count": 0,
   "metadata": {
    "application/vnd.databricks.v1+cell": {
     "cellMetadata": {
      "byteLimit": 2048000,
      "rowLimit": 10000
     },
     "inputWidgets": {},
     "nuid": "2055935f-433e-42c2-bdf1-dc7d9dca8b64",
     "showTitle": false,
     "tableResultSettingsMap": {},
     "title": ""
    }
   },
   "outputs": [
    {
     "output_type": "stream",
     "name": "stdout",
     "output_type": "stream",
     "text": [
      "[Truncated to first 65536 bytes]\nOut[2]: '\"file\",\"message\"\\n\"allen-p/_sent_mail/1.\",\"Message-ID: <18782981.1075855378110.JavaMail.evans@thyme>\\nDate: Mon, 14 May 2001 16:39:00 -0700 (PDT)\\nFrom: phillip.allen@enron.com\\nTo: tim.belden@enron.com\\nSubject: \\nMime-Version: 1.0\\nContent-Type: text/plain; charset=us-ascii\\nContent-Transfer-Encoding: 7bit\\nX-From: Phillip K Allen\\nX-To: Tim Belden <Tim Belden/Enron@EnronXGate>\\nX-cc: \\nX-bcc: \\nX-Folder: \\\\Phillip_Allen_Jan2002_1\\\\Allen, Phillip K.\\\\\\'Sent Mail\\nX-Origin: Allen-P\\nX-FileName: pallen (Non-Privileged).pst\\n\\nHere is our forecast\\n\\n \"\\n\"allen-p/_sent_mail/10.\",\"Message-ID: <15464986.1075855378456.JavaMail.evans@thyme>\\nDate: Fri, 4 May 2001 13:51:00 -0700 (PDT)\\nFrom: phillip.allen@enron.com\\nTo: john.lavorato@enron.com\\nSubject: Re:\\nMime-Version: 1.0\\nContent-Type: text/plain; charset=us-ascii\\nContent-Transfer-Encoding: 7bit\\nX-From: Phillip K Allen\\nX-To: John J Lavorato <John J Lavorato/ENRON@enronXgate@ENRON>\\nX-cc: \\nX-bcc: \\nX-Folder: \\\\Phillip_Allen_Jan2002_1\\\\Allen, Phillip K.\\\\\\'Sent Mail\\nX-Origin: Allen-P\\nX-FileName: pallen (Non-Privileged).pst\\n\\nTraveling to have a business meeting takes the fun out of the trip.  Especially if you have to prepare a presentation.  I would suggest holding the business plan meetings here then take a trip without any formal business meetings.  I would even try and get some honest opinions on whether a trip is even desired or necessary.\\n\\nAs far as the business meetings, I think it would be more productive to try and stimulate discussions across the different groups about what is working and what is not.  Too often the presenter speaks and the others are quiet just waiting for their turn.   The meetings might be better if held in a round table discussion format.  \\n\\nMy suggestion for where to go is Austin.  Play golf and rent a ski boat and jet ski\\'s.  Flying somewhere takes too much time.\\n\"\\n\"allen-p/_sent_mail/100.\",\"Message-ID: <24216240.1075855687451.JavaMail.evans@thyme>\\nDate: Wed, 18 Oct 2000 03:00:00 -0700 (PDT)\\nFrom: phillip.allen@enron.com\\nTo: leah.arsdall@enron.com\\nSubject: Re: test\\nMime-Version: 1.0\\nContent-Type: text/plain; charset=us-ascii\\nContent-Transfer-Encoding: 7bit\\nX-From: Phillip K Allen\\nX-To: Leah Van Arsdall\\nX-cc: \\nX-bcc: \\nX-Folder: \\\\Phillip_Allen_Dec2000\\\\Notes Folders\\\\\\'sent mail\\nX-Origin: Allen-P\\nX-FileName: pallen.nsf\\n\\ntest successful.  way to go!!!\"\\n\"allen-p/_sent_mail/1000.\",\"Message-ID: <13505866.1075863688222.JavaMail.evans@thyme>\\nDate: Mon, 23 Oct 2000 06:13:00 -0700 (PDT)\\nFrom: phillip.allen@enron.com\\nTo: randall.gay@enron.com\\nSubject: \\nMime-Version: 1.0\\nContent-Type: text/plain; charset=us-ascii\\nContent-Transfer-Encoding: 7bit\\nX-From: Phillip K Allen\\nX-To: Randall L Gay\\nX-cc: \\nX-bcc: \\nX-Folder: \\\\Phillip_Allen_Dec2000\\\\Notes Folders\\\\\\'sent mail\\nX-Origin: Allen-P\\nX-FileName: pallen.nsf\\n\\nRandy,\\n\\n Can you send me a schedule of the salary and level of everyone in the \\nscheduling group.  Plus your thoughts on any changes that need to be made.  \\n(Patti S for example)\\n\\nPhillip\"\\n\"allen-p/_sent_mail/1001.\",\"Message-ID: <30922949.1075863688243.JavaMail.evans@thyme>\\nDate: Thu, 31 Aug 2000 05:07:00 -0700 (PDT)\\nFrom: phillip.allen@enron.com\\nTo: greg.piper@enron.com\\nSubject: Re: Hello\\nMime-Version: 1.0\\nContent-Type: text/plain; charset=us-ascii\\nContent-Transfer-Encoding: 7bit\\nX-From: Phillip K Allen\\nX-To: Greg Piper\\nX-cc: \\nX-bcc: \\nX-Folder: \\\\Phillip_Allen_Dec2000\\\\Notes Folders\\\\\\'sent mail\\nX-Origin: Allen-P\\nX-FileName: pallen.nsf\\n\\nLet\\'s shoot for Tuesday at 11:45.  \"\\n\"allen-p/_sent_mail/1002.\",\"Message-ID: <30965995.1075863688265.JavaMail.evans@thyme>\\nDate: Thu, 31 Aug 2000 04:17:00 -0700 (PDT)\\nFrom: phillip.allen@enron.com\\nTo: greg.piper@enron.com\\nSubject: Re: Hello\\nMime-Version: 1.0\\nContent-Type: text/plain; charset=us-ascii\\nContent-Transfer-Encoding: 7bit\\nX-From: Phillip K Allen\\nX-To: Greg Piper\\nX-cc: \\nX-bcc: \\nX-Folder: \\\\Phillip_Allen_Dec2000\\\\Notes Folders\\\\\\'sent mail\\nX-Origin: Allen-P\\nX-FileName: pallen.nsf\\n\\nGreg,\\n\\n How about either next Tuesday or Thursday?\\n\\nPhillip\"\\n\"allen-p/_sent_mail/1003.\",\"Message-ID: <16254169.1075863688286.JavaMail.evans@thyme>\\nDate: Tue, 22 Aug 2000 07:44:00 -0700 (PDT)\\nFrom: phillip.allen@enron.com\\nTo: david.l.johnson@enron.com, john.shafer@enron.com\\nSubject: \\nMime-Version: 1.0\\nContent-Type: text/plain; charset=us-ascii\\nContent-Transfer-Encoding: 7bit\\nX-From: Phillip K Allen\\nX-To: david.l.johnson@enron.com, John Shafer\\nX-cc: \\nX-bcc: \\nX-Folder: \\\\Phillip_Allen_Dec2000\\\\Notes Folders\\\\\\'sent mail\\nX-Origin: Allen-P\\nX-FileName: pallen.nsf\\n\\nPlease cc the following distribution list with updates:\\n\\nPhillip Allen (pallen@enron.com)\\nMike Grigsby (mike.grigsby@enron.com)\\nKeith Holst (kholst@enron.com)\\nMonique Sanchez\\nFrank Ermis\\nJohn Lavorato\\n\\n\\nThank you for your help\\n\\nPhillip Allen\\n\"\\n\"allen-p/_sent_mail/1004.\",\"Message-ID: <17189699.1075863688308.JavaMail.evans@thyme>\\nDate: Fri, 14 Jul 2000 06:59:00 -0700 (PDT)\\nFrom: phillip.allen@enron.com\\nTo: joyce.teixeira@enron.com\\nSubject: Re: PRC review - phone calls\\nMime-Version: 1.0\\nContent-Type: text/plain; charset=us-ascii\\nContent-Transfer-Encoding: 7bit\\nX-From: Phillip K Allen\\nX-To: Joyce Teixeira\\nX-cc: \\nX-bcc: \\nX-Folder: \\\\Phillip_Allen_Dec2000\\\\Notes Folders\\\\\\'sent mail\\nX-Origin: Allen-P\\nX-FileName: pallen.nsf\\n\\nany morning between 10 and 11:30\"\\n\"allen-p/_sent_mail/101.\",\"Message-ID: <20641191.1075855687472.JavaMail.evans@thyme>\\nDate: Tue, 17 Oct 2000 02:26:00 -0700 (PDT)\\nFrom: phillip.allen@enron.com\\nTo: mark.scott@enron.com\\nSubject: Re: High Speed Internet Access\\nMime-Version: 1.0\\nContent-Type: text/plain; charset=us-ascii\\nContent-Transfer-Encoding: 7bit\\nX-From: Phillip K Allen\\nX-To: Mark Scott\\nX-cc: \\nX-bcc: \\nX-Folder: \\\\Phillip_Allen_Dec2000\\\\Notes Folders\\\\\\'sent mail\\nX-Origin: Allen-P\\nX-FileName: pallen.nsf\\n\\n1. login:  pallen pw: ke9davis\\n\\n I don\\'t think these are required by the ISP \\n\\n  2.  static IP address\\n\\n IP: 64.216.90.105\\n Sub: 255.255.255.248\\n gate: 64.216.90.110\\n DNS: 151.164.1.8\\n\\n  3.  Company: 0413\\n        RC:  105891\"\\n\"allen-p/_sent_mail/102.\",\"Message-ID: <30795301.1075855687494.JavaMail.evans@thyme>\\nDate: Mon, 16 Oct 2000 06:44:00 -0700 (PDT)\\nFrom: phillip.allen@enron.com\\nTo: zimam@enron.com\\nSubject: FW: fixed forward or other Collar floor gas price terms\\nMime-Version: 1.0\\nContent-Type: text/plain; charset=us-ascii\\nContent-Transfer-Encoding: 7bit\\nX-From: Phillip K Allen\\nX-To: zimam@enron.com\\nX-cc: \\nX-bcc: \\nX-Folder: \\\\Phillip_Allen_Dec2000\\\\Notes Folders\\\\\\'sent mail\\nX-Origin: Allen-P\\nX-FileName: pallen.nsf\\n\\n---------------------- Forwarded by Phillip K Allen/HOU/ECT on 10/16/2000 \\n01:42 PM ---------------------------\\n\\n\\n\"\"Buckner, Buck\"\" <buck.buckner@honeywell.com> on 10/12/2000 01:12:21 PM\\nTo: \"\"\\'Pallen@Enron.com\\'\"\" <Pallen@Enron.com>\\ncc:  \\nSubject: FW: fixed forward or other Collar floor gas price terms\\n\\n\\nPhillip,\\n\\n> As discussed  during our phone conversation, In a Parallon 75 microturbine\\n> power generation deal for a national accounts customer, I am developing a\\n> proposal to sell power to customer at fixed or collar/floor price. To do\\n> so I need a corresponding term gas price for same. Microturbine is an\\n> onsite generation product developed by Honeywell to generate electricity\\n> on customer site (degen). using natural gas. In doing so,  I need your\\n> best fixed price forward gas price deal for 1, 3, 5, 7 and 10 years for\\n> annual/seasonal supply to microturbines to generate fixed kWh for\\n> customer. We have the opportunity to sell customer kWh \\'s using\\n> microturbine or sell them turbines themselves. kWh deal must have limited/\\n> no risk forward gas price to make deal work. Therein comes Sempra energy\\n> gas trading, truly you.\\n>\\n> We are proposing installing 180 - 240 units across a large number of\\n> stores (60-100) in San Diego.\\n> Store number varies because of installation hurdles face at small percent.\\n>\\n> For 6-8 hours a day  Microturbine run time:\\n> Gas requirement for 180 microturbines 227 - 302 MMcf per year\\n> Gas requirement for 240 microturbines 302 - 403 MMcf per year\\n>\\n> Gas will likely be consumed from May through September, during peak\\n> electric period.\\n> Gas price required: Burnertip price behind (LDC) San Diego Gas & Electric\\n> Need detail breakout of commodity and transport cost (firm or\\n> interruptible).\\n>\\n> Should you have additional questions, give me a call.\\n> Let me assure you, this is real deal!!\\n>\\n> Buck Buckner, P.E., MBA\\n> Manager, Business Development and Planning\\n> Big Box Retail Sales\\n> Honeywell Power Systems, Inc.\\n> 8725 Pan American Frwy\\n> Albuquerque, NM 87113\\n> 505-798-6424\\n> 505-798-6050x\\n> 505-220-4129\\n> 888/501-3145\\n> \\n\"\\n\"allen-p/_sent_mail/103.\",\"Message-ID: <33076797.1075855687515.JavaMail.evans@thyme>\\nDate: Mon, 16 Oct 2000 06:42:00 -0700 (PDT)\\nFrom: phillip.allen@enron.com\\nTo: buck.buckner@honeywell.com\\nSubject: Re: FW: fixed forward or other Collar floor gas price terms\\nMime-Version: 1.0\\nContent-Type: text/plain; charset=us-ascii\\nContent-Transfer-Encoding: 7bit\\nX-From: Phillip K Allen\\nX-To: \"\"Buckner, Buck\"\" <buck.buckner@honeywell.com> @ ENRON\\nX-cc: \\nX-bcc: \\nX-Folder: \\\\Phillip_Allen_Dec2000\\\\Notes Folders\\\\\\'sent mail\\nX-Origin: Allen-P\\nX-FileName: pallen.nsf\\n\\nMr. Buckner,\\n\\n For delivered gas behind San Diego, Enron Energy Services is the appropriate \\nEnron entity.  I have forwarded your request to Zarin Imam at EES.  Her phone \\nnumber is 713-853-7107.  \\n\\nPhillip Allen\"\\n\"allen-p/_sent_mail/104.\",\"Message-ID: <25459584.1075855687536.JavaMail.evans@thyme>\\nDate: Fri, 13 Oct 2000 06:45:00 -0700 (PDT)\\nFrom: phillip.allen@enron.com\\nTo: stagecoachmama@hotmail.com\\nSubject: \\nMime-Version: 1.0\\nContent-Type: text/plain; charset=us-ascii\\nContent-Transfer-Encoding: 7bit\\nX-From: Phillip K Allen\\nX-To: stagecoachmama@hotmail.com\\nX-cc: \\nX-bcc: \\nX-Folder: \\\\Phillip_Allen_Dec2000\\\\Notes Folders\\\\\\'sent mail\\nX-Origin: Allen-P\\nX-FileName: pallen.nsf\\n\\nLucy,\\n\\n Here are the rentrolls:\\n\\n\\n\\n Open them and save in the rentroll folder.  Follow these steps so you don\\'t \\nmisplace these files.\\n\\n 1.  Click on Save As\\n 2.  Click on the drop down triangle under Save in:\\n 3.  Click on the  (C): drive\\n 4.  Click on the appropriate folder\\n 5.  Click on Save:\\n\\nPhillip\"\\n\"allen-p/_sent_mail/105.\",\"Message-ID: <13116875.1075855687561.JavaMail.evans@thyme>\\nDate: Mon, 9 Oct 2000 07:16:00 -0700 (PDT)\\nFrom: phillip.allen@enron.com\\nTo: keith.holst@enron.com\\nSubject: Consolidated positions: Issues & To Do list\\nMime-Version: 1.0\\nContent-Type: text/plain; charset=us-ascii\\nContent-Transfer-Encoding: 7bit\\nX-From: Phillip K Allen\\nX-To: Keith Holst\\nX-cc: \\nX-bcc: \\nX-Folder: \\\\Phillip_Allen_Dec2000\\\\Notes Folders\\\\\\'sent mail\\nX-Origin: Allen-P\\nX-FileName: pallen.nsf\\n\\n---------------------- Forwarded by Phillip K Allen/HOU/ECT on 10/09/2000 \\n02:16 PM ---------------------------\\n\\n\\nRichard Burchfield\\n10/06/2000 06:59 AM\\nTo: Phillip K Allen/HOU/ECT@ECT\\ncc: Beth Perlman/HOU/ECT@ECT \\nSubject: Consolidated positions: Issues & To Do list\\n\\nPhillip,\\n Below is the issues & to do list as we go forward with documenting the \\nrequirements for consolidated physical/financial positions and transport \\ntrade capture. What we need to focus on is the first bullet in Allan\\'s list; \\nthe need for a single set of requirements. Although the meeting with Keith, \\non Wednesday,  was informative the solution of creating a infinitely dynamic \\nconsolidated position screen, will be extremely difficult and time \\nconsuming.  Throughout the meeting on Wednesday, Keith alluded to the \\ninability to get consensus amongst the traders on the presentation of the \\nconsolidated position, so the solution was to make it so that a trader can \\narrange the position screen to their liking (much like Excel). What needs to \\nhappen on Monday from 3 - 5 is a effort to design a desired layout for the \\nconsolidated position screen, this is critical. This does not exclude \\nbuilding a capability to create a more flexible position presentation for the \\nfuture, but in order to create a plan that can be measured we need firm \\nrequirements. Also, to reiterate that the goals of this project is a project \\nplan on consolidate physical/financial positions and transport trade capture. \\nThe other issues that have been raised will be capture as projects on to \\nthemselves, and will need to be prioritised as efforts outside of this \\nproject.\\n\\nI have been involved in most of the meetings and the discussions have been \\ngood. I believe there has been good communication between the teams, but now \\nwe need to have focus on the objectives we set out to solve.\\n\\nRichard  \\n---------------------- Forwarded by Richard Burchfield/HOU/ECT on 10/06/2000 \\n08:34 AM ---------------------------\\n\\n\\nAllan Severude\\n10/05/2000 06:03 PM\\nTo: Richard Burchfield/HOU/ECT@ECT\\ncc: Peggy Alix/HOU/ECT@ECT, Russ Severson/HOU/ECT@ECT, Scott \\nMills/HOU/ECT@ECT, Kenny Ha/HOU/ECT@ECT \\nSubject: Consolidated positions: Issues & To Do list\\n\\n\\nFrom our initial set of meetings with the traders regarding consolidated \\npositions, I think we still have the following issues:\\nWe don\\'t have a single point of contact from the trading group.  We\\'ve had \\nthree meetings which brought out very different issues from different \\ntraders.  We really need a single point of contact to help drive the trader \\nrequirements and help come to a consensus regarding the requirements.\\nWe\\'re getting hit with a lot of different requests, many of which appear to \\nbe outside the scope of position consolidation.\\n\\nThings left to do:\\nI think it may be useful to try to formulate a high level project goal to \\nmake it as clear as possible what we\\'re trying to accomplish with this \\nproject.  It\\'ll help determine which requests fall under the project scope.\\nGo through the list of requests to determine which are in scope for this \\nproject and which fall out of scope.\\nFor those in scope, work to define relative importance (priority) of each and \\nwork with traders to define the exact requirements of each.\\nDefine the desired lay out of the position manager screen: main view and all \\ndrill downs.\\nUse the above to formulate a project plan.\\n\\nThings requested thus far (no particular order):\\nInclusion of Sitara physical deals into the TDS position manager and deal \\nticker.\\nCustomized rows and columns in the position manager (ad hoc rows/columns that \\nadd up existing position manager rows/columns).\\nNew drill down in the position manager to break out positions by: physical, \\ntransport, swaps, options, ...\\nAddition of a curve tab to the position manager to show the real-time values \\nof all curves on which the desk has a position.\\nAbility to split the current position grid to allow daily positions to be \\nshown directly above monthly positions.  Each grouped column in the top grid \\nwould be tied to a grouped column in the bottom grid.\\nAbility to properly show curve shift for float-for-float deals; determine the \\nappropriate positions to show for each:\\nGas Daily for monthly index,\\nPhysical gas for Nymex,\\nPhysical gas for Inside Ferc,\\nPhysical gas for Mid market.\\nAbility for TDS to pull valuation results based on a TDS flag instead of \\nusing official valuations.\\nPosition and P&L aggregation across all gas desks.\\nAbility to include the Gas Price book into TDS:\\nInclusion of spread options in our systems.  Ability to handle volatility \\nskew and correlations.\\nAbility to revalue all options incrementally throughout the trading day.  \\nApproximate delta changes between valuations using instantaneous gamma or a \\ngamma grid.\\nValuation of Gas Daily options.\\nA new position screen for options (months x strike x delta).  TBD.\\nInclusion of positions for exotic options currently managed in spreadsheets.\\nAbility to isolate the position change due to changed deals in the position \\nmanager.\\nAbility to view change deal P&L in the TDS deal ticker.  Show new deal terms, \\nprior deal terms, and net P&L affect of the change.\\nEliminate change deals with no economic impact from the TDS deal ticker.\\nPosition drill down in the position manager to isolate the impact of \\nindividual deals on the position total in a grid cell.\\nBenchmark positions in TDS.\\nDeployment of TDS in Canada. Currency and volume uom conversions. Implicit \\nand explicit position break out issues.\\n\\n-- Allan.\\n\\nPS: Colleen is setting up a meeting tomorrow to discuss the direction for \\ntransport.  Hopefully we\\'ll know much better where that part stands at that \\npoint.\\n\\n\\n\\n\\n\"\\n\"allen-p/_sent_mail/106.\",\"Message-ID: <2707340.1075855687584.JavaMail.evans@thyme>\\nDate: Mon, 9 Oct 2000 07:00:00 -0700 (PDT)\\nFrom: phillip.allen@enron.com\\nTo: keith.holst@enron.com\\nSubject: Consolidated positions: Issues & To Do list\\nMime-Version: 1.0\\nContent-Type: text/plain; charset=us-ascii\\nContent-Transfer-Encoding: 7bit\\nX-From: Phillip K Allen\\nX-To: Keith Holst\\nX-cc: \\nX-bcc: \\nX-Folder: \\\\Phillip_Allen_Dec2000\\\\Notes Folders\\\\\\'sent mail\\nX-Origin: Allen-P\\nX-FileName: pallen.nsf\\n\\n---------------------- Forwarded by Phillip K Allen/HOU/ECT on 10/09/2000 \\n02:00 PM ---------------------------\\n\\n\\nRichard Burchfield\\n10/06/2000 06:59 AM\\nTo: Phillip K Allen/HOU/ECT@ECT\\ncc: Beth Perlman/HOU/ECT@ECT \\nSubject: Consolidated positions: Issues & To Do list\\n\\nPhillip,\\n Below is the issues & to do list as we go forward with documenting the \\nrequirements for consolidated physical/financial positions and transport \\ntrade capture. What we need to focus on is the first bullet in Allan\\'s list; \\nthe need for a single set of requirements. Although the meeting with Keith, \\non Wednesday,  was informative the solution of creating a infinitely dynamic \\nconsolidated position screen, will be extremely difficult and time \\nconsuming.  Throughout the meeting on Wednesday, Keith alluded to the \\ninability to get consensus amongst the traders on the presentation of the \\nconsolidated position, so the solution was to make it so that a trader can \\narrange the position screen to their liking (much like Excel). What needs to \\nhappen on Monday from 3 - 5 is a effort to design a desired layout for the \\nconsolidated position screen, this is critical. This does not exclude \\nbuilding a capability to create a more flexible position presentation for the \\nfuture, but in order to create a plan that can be measured we need firm \\nrequirements. Also, to reiterate that the goals of this project is a project \\nplan on consolidate physical/financial positions and transport trade capture. \\nThe other issues that have been raised will be capture as projects on to \\nthemselves, and will need to be prioritised as efforts outside of this \\nproject.\\n\\nI have been involved in most of the meetings and the discussions have been \\ngood. I believe there has been good communication between the teams, but now \\nwe need to have focus on the objectives we set out to solve.\\n\\nRichard  \\n---------------------- Forwarded by Richard Burchfield/HOU/ECT on 10/06/2000 \\n08:34 AM ---------------------------\\n\\n\\nAllan Severude\\n10/05/2000 06:03 PM\\nTo: Richard Burchfield/HOU/ECT@ECT\\ncc: Peggy Alix/HOU/ECT@ECT, Russ Severson/HOU/ECT@ECT, Scott \\nMills/HOU/ECT@ECT, Kenny Ha/HOU/ECT@ECT \\nSubject: Consolidated positions: Issues & To Do list\\n\\n\\nFrom our initial set of meetings with the traders regarding consolidated \\npositions, I think we still have the following issues:\\nWe don\\'t have a single point of contact from the trading group.  We\\'ve had \\nthree meetings which brought out very different issues from different \\ntraders.  We really need a single point of contact to help drive the trader \\nrequirements and help come to a consensus regarding the requirements.\\nWe\\'re getting hit with a lot of different requests, many of which appear to \\nbe outside the scope of position consolidation.\\n\\nThings left to do:\\nI think it may be useful to try to formulate a high level project goal to \\nmake it as clear as possible what we\\'re trying to accomplish with this \\nproject.  It\\'ll help determine which requests fall under the project scope.\\nGo through the list of requests to determine which are in scope for this \\nproject and which fall out of scope.\\nFor those in scope, work to define relative importance (priority) of each and \\nwork with traders to define the exact requirements of each.\\nDefine the desired lay out of the position manager screen: main view and all \\ndrill downs.\\nUse the above to formulate a project plan.\\n\\nThings requested thus far (no particular order):\\nInclusion of Sitara physical deals into the TDS position manager and deal \\nticker.\\nCustomized rows and columns in the position manager (ad hoc rows/columns that \\nadd up existing position manager rows/columns).\\nNew drill down in the position manager to break out positions by: physical, \\ntransport, swaps, options, ...\\nAddition of a curve tab to the position manager to show the real-time values \\nof all curves on which the desk has a position.\\nAbility to split the current position grid to allow daily positions to be \\nshown directly above monthly positions.  Each grouped column in the top grid \\nwould be tied to a grouped column in the bottom grid.\\nAbility to properly show curve shift for float-for-float deals; determine the \\nappropriate positions to show for each:\\nGas Daily for monthly index,\\nPhysical gas for Nymex,\\nPhysical gas for Inside Ferc,\\nPhysical gas for Mid market.\\nAbility for TDS to pull valuation results based on a TDS flag instead of \\nusing official valuations.\\nPosition and P&L aggregation across all gas desks.\\nAbility to include the Gas Price book into TDS:\\nInclusion of spread options in our systems.  Ability to handle volatility \\nskew and correlations.\\nAbility to revalue all options incrementally throughout the trading day.  \\nApproximate delta changes between valuations using instantaneous gamma or a \\ngamma grid.\\nValuation of Gas Daily options.\\nA new position screen for options (months x strike x delta).  TBD.\\nInclusion of positions for exotic options currently managed in spreadsheets.\\nAbility to isolate the position change due to changed deals in the position \\nmanager.\\nAbility to view change deal P&L in the TDS deal ticker.  Show new deal terms, \\nprior deal terms, and net P&L affect of the change.\\nEliminate change deals with no economic impact from the TDS deal ticker.\\nPosition drill down in the position manager to isolate the impact of \\nindividual deals on the position total in a grid cell.\\nBenchmark positions in TDS.\\nDeployment of TDS in Canada. Currency and volume uom conversions. Implicit \\nand explicit position break out issues.\\n\\n-- Allan.\\n\\nPS: Colleen is setting up a meeting tomorrow to discuss the direction for \\ntransport.  Hopefully we\\'ll know much better where that part stands at that \\npoint.\\n\\n\\n\\n\\n\"\\n\"allen-p/_sent_mail/107.\",\"Message-ID: <2465689.1075855687605.JavaMail.evans@thyme>\\nDate: Thu, 5 Oct 2000 06:26:00 -0700 (PDT)\\nFrom: phillip.allen@enron.com\\nTo: david.delainey@enron.com\\nSubject: \\nMime-Version: 1.0\\nContent-Type: text/plain; charset=us-ascii\\nContent-Transfer-Encoding: 7bit\\nX-From: Phillip K Allen\\nX-To: David W Delainey\\nX-cc: \\nX-bcc: \\nX-Folder: \\\\Phillip_Allen_Dec2000\\\\Notes Folders\\\\\\'sent mail\\nX-Origin: Allen-P\\nX-FileName: pallen.nsf\\n\\nDave, \\n\\n Here are the names of the west desk members by category.  The origination \\nside is very sparse.  \\n\\n\\n\\n\\n\\nPhillip\\n\"\\n\"allen-p/_sent_mail/108.\",\"Message-ID: <1115198.1075855687626.JavaMail.evans@thyme>\\nDate: Thu, 5 Oct 2000 05:55:00 -0700 (PDT)\\nFrom: phillip.allen@enron.com\\nTo: paula.harris@enron.com\\nSubject: Re: 2001 Margin Plan\\nMime-Version: 1.0\\nContent-Type: text/plain; charset=us-ascii\\nContent-Transfer-Encoding: 7bit\\nX-From: Phillip K Allen\\nX-To: Paula Harris\\nX-cc: \\nX-bcc: \\nX-Folder: \\\\Phillip_Allen_Dec2000\\\\Notes Folders\\\\\\'sent mail\\nX-Origin: Allen-P\\nX-FileName: pallen.nsf\\n\\nPaula,\\n\\n 35 million is fine\\n\\nPhillip\"\\n\"allen-p/_sent_mail/109.\",\"Message-ID: <19773657.1075855687649.JavaMail.evans@thyme>\\nDate: Wed, 4 Oct 2000 09:23:00 -0700 (PDT)\\nFrom: phillip.allen@enron.com\\nTo: ina.rangel@enron.com\\nSubject: Var, Reporting and Resources Meeting\\nMime-Version: 1.0\\nContent-Type: text/plain; charset=us-ascii\\nContent-Transfer-Encoding: 7bit\\nX-From: Phillip K Allen\\nX-To: Ina Rangel\\nX-cc: \\nX-bcc: \\nX-Folder: \\\\Phillip_Allen_Dec2000\\\\Notes Folders\\\\\\'sent mail\\nX-Origin: Allen-P\\nX-FileName: pallen.nsf\\n\\n---------------------- Forwarded by Phillip K Allen/HOU/ECT on 10/04/2000 \\n04:23 PM ---------------------------\\n   \\n\\tEnron North America Corp.\\n\\t\\n\\tFrom:  Airam Arteaga                           10/04/2000 12:23 PM\\n\\t\\n\\nTo: Phillip K\n\n*** WARNING: max output size exceeded, skipping output. ***\n\ne, which I would\\nestimate as $10,000 per lot for a loan value of $7,000 per lot.  Then the\\nloan value for each improved lot would be $15,000 per lot.  This would give\\nyou a total loan of $992,000, total cost of $1,232,645 for equity required\\nof $241,000.  This was not presented in the initial analysis as the phasing\\nis depended on a more careful assessment by the Civil Engineer as the\\nseparate phases must each be able to stand on its own from a utility\\nstandpoint.\\n\\nCONSTRUCTION LOANS\\nThere are three types of  construction loans.  First, is a speculative\\n(spec) loan that is taken out prior to any pre-sales activity.  Second,  is\\na construction loan for a pre-sold unit, but the loan remains in the\\nbuilder/developers name.  Third, is a pre-sold unit with the construction\\nloan in the name of the buyer.  We expect to have up to 8 spec loans to\\nstart the project and expect all other loans to be pre-sold units with loans\\nin the name of the builder/developer.  We do not expect to have any\\nconstruction loans in the name of the buyers, as such loans are too\\ndifficult to manage and please new buyers unfamiliar with the process.\\n\\nSpec loans will be for 70% to 75% of value and construction loans for\\npre-sold units, if the construction loan is from the mortgage lender,  will\\nbe from 80% to 95% of value.\\n\\nDISBURSEMENTS\\nDisbursements will be handled by the General Partner to cover current and\\nnear term third party costs, then to necessary reserves, then to priority\\npayments and then to the partners per the agreement.  The General Partner\\nwill contract with Creekside Builders, LLC to construct the units and the\\nfee to CB will include a construction management and overhead fee equal to\\n15% of the direct hard cost excluding land, financing and sales costs.\\nThese fees are the only monies to Creekside, Larry Lewter or myself prior to\\ncalculation of profit, except for a) direct reimbursement for partnership\\nexpenses and b) direct payment to CB for any subcontractor costs that it has\\nto perform.  For example, if CB cannot find a good trim carpenter sub, or\\ncannot find enough trim carpenters, etc., and it decides to undertake this\\nfunction, it will charge the partnership the same fee it was able to obtain\\nfrom third parties and will disclose those cases to the partnership.\\nFinally, CB will receive a fee for the use of any of its equipment if it is\\nused in lieu of leasing equipment from others.  At present CB does not own\\nany significant equipment, but it is considering the purchase of a sky track\\nto facilitate and speed up framing, cornice, roofing and drywall spreading.\\n\\nREPORTING\\nWe are more than willing to provide reports to track expenses vs. plan.\\nWhat did you have in mind?  I would like to use some form of internet based\\nreporting.\\n\\nBOOKKEEPING\\nI am not sure what you are referring to by the question, \"\"Bookkeeping\\nprocedures to record actual expenses?\"\"  Please expand.\\n\\nINVESTOR INPUT\\nWe are glad to have the investor\\'s input on design and materials.  As always\\nthe question will be who has final say if there is disagreement, but in my\\nexperience I have always been able to reach consensus. As you, and I presume\\nKeith, want to be involved to learn as much as possible we would make every\\neffort to be accommodating.\\n\\nCREEKSIDE PROCEEDURES\\nCB procedures for dealing with subs, vendors and professionals is not as\\nformal as your question indicates.  In the EXTREMELY tight labor market\\nobtaining 3 bids for each labor trade is not feasible.  For the professional\\nsubs we use those with whom we have developed a previous rapport.  Finally,\\nfor vendors they are constantly shopped.\\n\\nPRE-SELECTED PROFESSIONALS, SUBS AND VENDORS\\nYes there are many different subs that have been identified and I can\\nprovide these if you are interested.\\n\\nI know I have not answered everything, but this is a starting point.  Call\\nwhen you have reviewed and we can discuss further.\\n\\nSincerely,\\n\\nGeorge Richards\\nPresident, Creekside Builders, LLC\\n\\n\\n\\n\\n - winmail.dat\\n\"\\n\"allen-p/_sent_mail/118.\",\"Message-ID: <719350.1075855687850.JavaMail.evans@thyme>\\nDate: Tue, 26 Sep 2000 09:26:00 -0700 (PDT)\\nFrom: phillip.allen@enron.com\\nTo: pallen70@hotmail.com\\nSubject: Investment Structure\\nMime-Version: 1.0\\nContent-Type: text/plain; charset=us-ascii\\nContent-Transfer-Encoding: 7bit\\nX-From: Phillip K Allen\\nX-To: pallen70@hotmail.com\\nX-cc: \\nX-bcc: \\nX-Folder: \\\\Phillip_Allen_Dec2000\\\\Notes Folders\\\\\\'sent mail\\nX-Origin: Allen-P\\nX-FileName: pallen.nsf\\n\\n---------------------- Forwarded by Phillip K Allen/HOU/ECT on 09/26/2000 \\n04:26 PM ---------------------------\\n\\n\\n\"\"George Richards\"\" <cbpres@austin.rr.com> on 09/26/2000 01:18:45 PM\\nPlease respond to <cbpres@austin.rr.com>\\nTo: \"\"Phillip Allen\"\" <pallen@enron.com>\\ncc: \"\"Larry Lewter\"\" <retwell@mail.sanmarcos.net>, \"\"Claudia L. Crocker\"\" \\n<clclegal2@aol.com> \\nSubject: Investment Structure\\n\\n\\nSTRUCTURE:\\nTypically the structure is a limited partnership with a corporate (or LLC)\\ngeneral partner.  The General Partner owns 1% of the project and carries the\\nliability of construction.\\n\\nLAND OWNERSHIP & LOANS\\nThe property would be purchased in the name of the limited partnership and\\nany land loans, land improvements loans and construction loans would be in\\nthe name of the limited partnership.  Each of the individual investors and\\nall of the principals in Creekside would also personally guarantee the\\nloans.  If the investor(s) do not sign on the loans, this generally means\\nthat a larger amount of cash is required and the investor\\'s share of profits\\nis reduced.\\n\\nAll loans for residential construction, that are intended for re-sale, are\\nfull recourse loans.  If we are pursuing multifamily rental developments,\\nthe construction loans are still full recourse but the mortgage can often be\\nnon-recourse.\\n\\nUSE OF INITIAL INVESTMENT\\nThe initial investment is used for land deposit, engineering &\\narchitectural design, soils tests, surveys, filing fees, legal fees for\\norganization and condominium association formation,  and appraisals.  Unlike\\nmany real estate investment programs, none of the funds are used for fees to\\nCreekside Builders, LLC.  These professional expenses will be incurred over\\nthe estimated 6 month design and approval period.\\n\\nEARLY LAND COSTS\\nThe $4,000 per month costs listed in the cash flow as part of land cost\\nrepresent the extension fees due to the seller for up to 4 months of\\nextensions on closing.  As an alternative, we can close into a land loan at\\nprobably 70% of appraised value.  With a land value equal to the purchase\\nprice of $680,000 this would mean a land loan of $476,000 with estimated\\nmonthly interest payments of $3,966, given a 10% annual interest rate, plus\\napproximately 1.25% of the loan amount for closing costs and loan fees.\\n\\nEQUITY AT IMPROVEMENT LOAN\\nOnce the site plan is approved by the City of Austin, the City will require\\nthe development entity to post funds for fiscal improvements, referred to as\\nthe \"\"fiscals\"\".  This cost represents a bond for the completion of\\nimprovements that COA considers vital and these funds are released once the\\nimprovements have been completed and accepted by COA.  This release will be\\nfor 90% of the cost with the remaining 10% released one year after\\ncompletion.  Releases can be granted once every 90 days and you should\\nexpect that the release would occur 6 months after the start of lot\\nimprovement construction.  These fiscals are usually posted in cash or an\\nirrevocable letter of credit.  As such, they have to be counted as a\\ndevelopment cost, even though they are not spent.  Because they are not\\nspent no interest is charged on these funds.\\n\\nThe lot improvement loan is typically 75% of the appraised value of a\\nfinished lot, which I suspect will be at least $20,000 and potentially as\\nhigh as $25,000.  This would produce a loan amount of  $15,000 on $20,000\\nper lot.  With estimated per lot improvement costs of $9,000, \\'fiscals\\' at\\n$2,000 and the land cost at $8,000 , total improved lot cost is $19,000\\nwhich means $0 to $4,000 per lot in total equity.  The investment prior to\\nobtaining the improvement loan would count towards any equity requirement\\nprovided it was for direct costs.  Thus, the additional equity for the\\nimprovement loan would be $0-$184,000.   Even if the maximum loan would\\ncover all costs, it is unlikely the bank would allow reimbursement of funds\\nspent. The higher estimates of equity investments are shown in the\\npreliminary proforma to be on the safe side.  The engineer is preparing a\\ntentative site layout with an initial evaluation of the phasing, which can\\nsignificantly reduce the cash equity requirement.\\n\\nPhasing works as follows.  If the first phase was say 40 units, the total\\nlot improvement cost might average $31,000 per lot.   Of this, probably\\n$13,000 would be for improvements and $19,000 for the land cost.  The\\nimprovements are higher to cover large one time up front costs for design\\ncosts, the entry road, water treatment costs, perimeter fencing and\\nlandscaping, and so on, as well as for 100% of the land.  The land loan for\\nundeveloped lots would be 70% of the appraised raw lot value, which I would\\nestimate as $10,000 per lot for a loan value of $7,000 per lot.  Then the\\nloan value for each improved lot would be $15,000 per lot.  This would give\\nyou a total loan of $992,000, total cost of $1,232,645 for equity required\\nof $241,000.  This was not presented in the initial analysis as the phasing\\nis depended on a more careful assessment by the Civil Engineer as the\\nseparate phases must each be able to stand on its own from a utility\\nstandpoint.\\n\\nCONSTRUCTION LOANS\\nThere are three types of  construction loans.  First, is a speculative\\n(spec) loan that is taken out prior to any pre-sales activity.  Second,  is\\na construction loan for a pre-sold unit, but the loan remains in the\\nbuilder/developers name.  Third, is a pre-sold unit with the construction\\nloan in the name of the buyer.  We expect to have up to 8 spec loans to\\nstart the project and expect all other loans to be pre-sold units with loans\\nin the name of the builder/developer.  We do not expect to have any\\nconstruction loans in the name of the buyers, as such loans are too\\ndifficult to manage and please new buyers unfamiliar with the process.\\n\\nSpec loans will be for 70% to 75% of value and construction loans for\\npre-sold units, if the construction loan is from the mortgage lender,  will\\nbe from 80% to 95% of value.\\n\\nDISBURSEMENTS\\nDisbursements will be handled by the General Partner to cover current and\\nnear term third party costs, then to necessary reserves, then to priority\\npayments and then to the partners per the agreement.  The General Partner\\nwill contract with Creekside Builders, LLC to construct the units and the\\nfee to CB will include a construction management and overhead fee equal to\\n15% of the direct hard cost excluding land, financing and sales costs.\\nThese fees are the only monies to Creekside, Larry Lewter or myself prior to\\ncalculation of profit, except for a) direct reimbursement for partnership\\nexpenses and b) direct payment to CB for any subcontractor costs that it has\\nto perform.  For example, if CB cannot find a good trim carpenter sub, or\\ncannot find enough trim carpenters, etc., and it decides to undertake this\\nfunction, it will charge the partnership the same fee it was able to obtain\\nfrom third parties and will disclose those cases to the partnership.\\nFinally, CB will receive a fee for the use of any of its equipment if it is\\nused in lieu of leasing equipment from others.  At present CB does not own\\nany significant equipment, but it is considering the purchase of a sky track\\nto facilitate and speed up framing, cornice, roofing and drywall spreading.\\n\\nREPORTING\\nWe are more than willing to provide reports to track expenses vs. plan.\\nWhat did you have in mind?  I would like to use some form of internet based\\nreporting.\\n\\nBOOKKEEPING\\nI am not sure what you are referring to by the question, \"\"Bookkeeping\\nprocedures to record actual expenses?\"\"  Please expand.\\n\\nINVESTOR INPUT\\nWe are glad to have the investor\\'s input on design and materials.  As always\\nthe question will be who has final say if there is disagreement, but in my\\nexperience I have always been able to reach consensus. As you, and I presume\\nKeith, want to be involved to learn as much as possible we would make every\\neffort to be accommodating.\\n\\nCREEKSIDE PROCEEDURES\\nCB procedures for dealing with subs, vendors and professionals is not as\\nformal as your question indicates.  In the EXTREMELY tight labor market\\nobtaining 3 bids for each labor trade is not feasible.  For the professional\\nsubs we use those with whom we have developed a previous rapport.  Finally,\\nfor vendors they are constantly shopped.\\n\\nPRE-SELECTED PROFESSIONALS, SUBS AND VENDORS\\nYes there are many different subs that have been identified and I can\\nprovide these if you are interested.\\n\\nI know I have not answered everything, but this is a starting point.  Call\\nwhen you have reviewed and we can discuss further.\\n\\nSincerely,\\n\\nGeorge Richards\\nPresident, Creekside Builders, LLC\\n\\n\\n\\n\\n - winmail.dat\\n\"\\n\"allen-p/_sent_mail/119.\",\"Message-ID: <10523086.1075855687873.JavaMail.evans@thyme>\\nDate: Tue, 26 Sep 2000 07:01:00 -0700 (PDT)\\nFrom: phillip.allen@enron.com\\nTo: ina.rangel@enron.com\\nSubject: \\nMime-Version: 1.0\\nContent-Type: text/plain; charset=us-ascii\\nContent-Transfer-Encoding: 7bit\\nX-From: Phillip K Allen\\nX-To: Ina Rangel\\nX-cc: \\nX-bcc: \\nX-Folder: \\\\Phillip_Allen_Dec2000\\\\Notes Folders\\\\\\'sent mail\\nX-Origin: Allen-P\\nX-FileName: pallen.nsf\\n\\n---------------------- Forwarded by Phillip K Allen/HOU/ECT on 09/26/2000 \\n02:00 PM ---------------------------\\n\\n\\n\\tReschedule\\nChairperson: Richard Burchfield\\nSent by: Cindy Cicchetti\\n\\nStart: 10/03/2000 02:30 PM\\nEnd: 10/03/2000 03:30 PM\\n\\nDescription: Gas Physical/Financail Positions - Room 2537\\n\\n\\n\\nThis meeting repeats   starting on    (if the date occurs on a weekend the \\nmeeting ).\\nMeeting Dates: \\n\\n\\n\\nFletcher J Sturm/HOU/ECT\\nScott Neal/HOU/ECT\\nHunter S Shively/HOU/ECT\\nPhillip K Allen/HOU/ECT\\nAllan Severude/HOU/ECT\\nScott Mills/HOU/ECT\\nRuss Severson/HOU/ECT\\n\\nDetailed description:\\n\\n\\n\\n---------------------- Forwarded by Phillip K Allen/HOU/ECT on 09/26/2000 \\n02:00 PM ---------------------------\\n\\n\\n\\tConfirmation\\nChairperson: Richard Burchfield\\nSent by: Cindy Cicchetti\\n\\nStart: 10/03/2000 02:30 PM\\nEnd: 10/03/2000 03:30 PM\\n\\nDescription: Gas Physical/Financail Positions - Room 2537\\n\\n\\n\\nThis meeting repeats   starting on    (if the date occurs on a weekend the \\nmeeting ).\\nMeeting Dates: \\n\\n\\n\\nFletcher J Sturm/HOU/ECT\\nScott Neal/HOU/ECT\\nHunter S Shively/HOU/ECT\\nPhillip K Allen/HOU/ECT\\nAllan Severude/HOU/ECT\\nScott Mills/HOU/ECT\\nRuss Severson/HOU/ECT\\n\\nDetailed description:\\n\\n\\nStatus update:\\nFletcher J Sturm -> No Response\\nScott Neal -> No Response\\nHunter S Shively -> No Response\\nPhillip K Allen -> No Response\\nAllan Severude -> Accepted\\nScott Mills -> Accepted\\nRuss Severson -> No Response\\n\\n\\n---------------------- Forwarded by Phillip K Allen/HOU/ECT on 09/26/2000 \\n02:00 PM ---------------------------\\n\\n\\n\\tReschedule\\nChairperson: Richard Burchfield\\nSent by: Cindy Cicchetti\\n\\nStart: 09/27/2000 02:00 PM\\nEnd: 09/27/2000 03:00 PM\\n\\nDescription: Gas Trading Vision Meeting - Room EB2601\\n\\n\\n\\nThis meeting repeats   starting on    (if the date occurs on a weekend the \\nmeeting ).\\nMeeting Dates: \\n\\n\\n\\nPhillip K Allen/HOU/ECT@ECT\\nHunter S Shively/HOU/ECT@ECT\\nScott Mills/HOU/ECT@ECT\\nAllan Severude/HOU/ECT@ECT\\nJeffrey C Gossett/HOU/ECT@ECT\\nColleen Sullivan/HOU/ECT@ECT\\nRuss Severson/HOU/ECT@ECT\\nJayant Krishnaswamy/HOU/ECT@ECT\\nRussell Long/HOU/ECT@ECT\\n\\nDetailed description:\\n\\n\\n\\n---------------------- Forwarded by Phillip K Allen/HOU/ECT on 09/26/2000 \\n02:00 PM ---------------------------\\n\\n\\n\\tConfirmation\\nChairperson: Richard Burchfield\\nSent by: Cindy Cicchetti\\n\\nStart: 09/27/2000 02:00 PM\\nEnd: 09/27/2000 03:00 PM\\n\\nDescription: Gas Trading Vision Meeting - Room EB2601\\n\\n\\n\\nThis meeting repeats   starting on    (if the date occurs on a weekend the \\nmeeting ).\\nMeeting Dates: \\n\\n\\n\\nPhillip K Allen/HOU/ECT@ECT\\nHunter S Shively/HOU/ECT@ECT\\nScott Mills/HOU/ECT@ECT\\nAllan Severude/HOU/ECT@ECT\\nJeffrey C Gossett/HOU/ECT@ECT\\nColleen Sullivan/HOU/ECT@ECT\\nRuss Severson/HOU/ECT@ECT\\nJayant Krishnaswamy/HOU/ECT@ECT\\nRussell Long/HOU/ECT@ECT\\n\\nDetailed description:\\n\\n\\nStatus update:\\nPhillip K Allen -> No Response\\nHunter S Shively -> No Response\\nScott Mills -> No Response\\nAllan Severude -> Accepted\\nJeffrey C Gossett -> Accepted\\nColleen Sullivan -> No Response\\nRuss Severson -> No Response\\nJayant Krishnaswamy -> Accepted\\nRussell Long -> Accepted\\n\\n\\n---------------------- Forwarded by Phillip K Allen/HOU/ECT on 09/26/2000 \\n02:00 PM ---------------------------\\n\\n\\n\\tReschedule\\nChairperson: Richard Burchfield\\nSent by: Cindy Cicchetti\\n\\nStart: 09/28/2000 01:00 PM\\nEnd: 09/28/2000 02:00 PM\\n\\nDescription: Gas Physical/Financail Positions - Room 2537\\n\\n\\n\\nThis meeting repeats   starting on    (if the date occurs on a weekend the \\nmeeting ).\\nMeeting Dates: \\n\\n\\n\\nFletcher J Sturm/HOU/ECT\\nScott Neal/HOU/ECT\\nHunter S Shively/HOU/ECT\\nPhillip K Allen/HOU/ECT\\nAllan Severude/HOU/ECT\\nScott Mills/HOU/ECT\\nRuss Severson/HOU/ECT\\n\\nDetailed description:\\n\\n\\n\\n---------------------- Forwarded by Phillip K Allen/HOU/ECT on 09/26/2000 \\n02:00 PM ---------------------------\\n\\n\\n\\tConfirmation\\nChairperson: Richard Burchfield\\nSent by: Cindy Cicchetti\\n\\nStart: 09/28/2000 01:00 PM\\nEnd: 09/28/2000 02:00 PM\\n\\nDescription: Gas Physical/Financail Positions - Room 2537\\n\\n\\n\\nThis meeting repeats   starting on    (if the date occurs on a weekend the \\nmeeting ).\\nMeeting Dates: \\n\\n\\n\\nFletcher J Sturm/HOU/ECT\\nScott Neal/HOU/ECT\\nHunter S Shively/HOU/ECT\\nPhillip K Allen/HOU/ECT\\nAllan Severude/HOU/ECT\\nScott Mills/HOU/ECT\\nRuss Severson/HOU/ECT\\n\\nDetailed description:\\n\\n\\nStatus update:\\nFletcher J Sturm -> No Response\\nScott Neal -> No Response\\nHunter S Shively -> No Response\\nPhillip K Allen -> No Response\\nAllan Severude -> Accepted\\nScott Mills -> Accepted\\nRuss Severson -> Accepted\\n\\n\\n---------------------- Forwarded by Phillip K Allen/HOU/ECT on 09/26/2000 \\n02:00 PM ---------------------------\\n   \\n\\t\\n\\t\\n\\tFrom:  Cindy Cicchetti                           09/26/2000 10:38 AM\\n\\t\\n\\nTo: Phillip K Allen/HOU/ECT@ECT, Hunter S Shively/HOU/ECT@ECT, Scott \\nMills/HOU/ECT@ECT, Allan Severude/HOU/ECT@ECT, Jeffrey C Gossett/HOU/ECT@ECT, \\nColleen Sullivan/HOU/ECT@ECT, Russ Severson/HOU/ECT@ECT, Jayant \\nKrishnaswamy/HOU/ECT@ECT, Russell Long/HOU/ECT@ECT\\ncc:  \\nSubject: Gas Trading Vision mtg.\\n\\nThis meeting has been moved to 4:00 on Wed. in room 2601.  I have sent a \\nconfirmation to each of you via Lotus Notes.  Sorry for all of the changes \\nbut there was a scheduling problem with a couple of people for the original \\ntime slot. \\n\"\\n\"allen-p/_sent_mail/12.\",\"Message-ID: <8572706.1075855378498.JavaMail.evans@thyme>\\nDate: Thu, 3 May 2001 15:57:00 -0700 (PDT)\\nFrom: phillip.allen@enron.com\\nTo: rlehmann@yahoo.com\\nSubject: \\nMime-Version: 1.0\\nContent-Type: text/plain; charset=us-ascii\\nContent-Transfer-Encoding: 7bit\\nX-From: Phillip K Allen\\nX-To: rlehmann <rlehmann@yahoo.com>\\nX-cc: \\nX-bcc: \\nX-Folder: \\\\Phillip_Allen_Jan2002_1\\\\Allen, Phillip K.\\\\\\'Sent Mail\\nX-Origin: Allen-P\\nX-FileName: pallen (Non-Privileged).pst\\n\\nReagan,\\n\\nJust wanted to give you an update.  I have changed the unit mix to include some 1 bedrooms and reduced the number of buildings to 12.  Kipp Flores is working on the construction drawings.  At the same time I am pursuing FHA financing.  Once the construction drawings are complete I will send them to you for a revised bid.  Your original bid was competitive and I am still attracted to your firm because of your strong local presence and contacts.\\n\\nPhillip\"\\n\"allen-p/_sent_mail/120.\",\"Message-ID: <29665600.1075855687895.JavaMail.evans@thyme>\\nDate: Tue, 26 Sep 2000 05:11:00 -0700 (PDT)\\nFrom: phillip.allen@enron.com\\nTo: cindy.cicchetti@enron.com\\nSubject: Re: Gas Trading Vision meeting\\nMime-Version: 1.0\\nContent-Type: text/plain; charset=us-ascii\\nContent-Transfer-Encoding: 7bit\\nX-From: Phillip K Allen\\nX-To: Cindy Cicchetti\\nX-cc: \\nX-bcc: \\nX-Folder: \\\\Phillip_Allen_Dec2000\\\\Notes Folders\\\\\\'sent mail\\nX-Origin: Allen-P\\nX-FileName: pallen.nsf\\n\\nNymex expiration is during this time frame.  Please reschedule.\"\\n\"allen-p/_sent_mail/121.\",\"Message-ID: <4449575.1075855687916.JavaMail.evans@thyme>\\nDate: Tue, 26 Sep 2000 05:08:00 -0700 (PDT)\\nFrom: phillip.allen@enron.com\\nTo: ina.rangel@enron.com\\nSubject: \\nMime-Version: 1.0\\nContent-Type: text/plain; charset=us-ascii\\nContent-Transfer-Encoding: 7bit\\nX-From: Phillip K Allen\\nX-To: Ina Rangel\\nX-cc: \\nX-bcc: \\nX-Folder: \\\\Phillip_Allen_Dec2000\\\\Notes Folders\\\\\\'sent mail\\nX-Origin: Allen-P\\nX-FileName: pallen.nsf\\n\\n---------------------- Forwarded by Phillip K Allen/HOU/ECT on 09/26/2000 \\n12:08 PM ---------------------------\\n\\n\\n\\tInvitation\\nChairperson: Richard Burchfield\\nSent by: Cindy Cicchetti\\n\\nStart: 09/27/2000 11:30 AM\\nEnd: 09/27/2000 12:30 PM\\n\\nDescription: Gas Trading Vision Meeting - Room EB2556\\n\\n\\n\\nThis meeting repeats   starting on    (if the date occurs on a weekend the \\nmeeting ).\\nMeeting Dates: \\n\\n\\n\\nPhillip K Allen/HOU/ECT\\nHunter S Shively/HOU/ECT\\nScott Mills/HOU/ECT\\nAllan Severude/HOU/ECT\\nJeffrey C Gossett/HOU/ECT\\nColleen Sullivan/HOU/ECT\\nRuss Severson/HOU/ECT\\nJayant Krishnaswamy/HOU/ECT\\nRussell Long/HOU/ECT\\n\\nDetailed description:\\n\\n\\n\"\\n\"allen-p/_sent_mail/122.\",\"Message-ID: <24741229.1075855687937.JavaMail.evans@thyme>\\nDate: Tue, 26 Sep 2000 05:07:00 -0700 (PDT)\\nFrom: phillip.allen@enron.com\\nTo: ina.rangel@enron.com\\nSubject: Gas Physical/Financial Position\\nMime-Version: 1.0\\nContent-Type: text/plain; charset=us-ascii\\nContent-Transfer-Encoding: 7bit\\nX-From: Phillip K Allen\\nX-To: Ina Rangel\\nX-cc: \\nX-bcc: \\nX-Folder: \\\\Phillip_Allen_Dec2000\\\\Notes Folders\\\\\\'sent mail\\nX-Origin: Allen-P\\nX-FileName: pallen.nsf\\n\\n---------------------- Forwarded by Phillip K Allen/HOU/ECT on 09/26/2000 \\n12:07 PM ---------------------------\\n   \\n\\t\\n\\t\\n\\tFrom:  Cindy Cicchetti                           09/26/2000 09:23 AM\\n\\t\\n\\nTo: Phillip K Allen/HOU/ECT@ECT, Hunter S Shively/HOU/ECT@ECT, Scott \\nMills/HOU/ECT@ECT, Allan Severude/HOU/ECT@ECT, Russ Severson/HOU/ECT@ECT, \\nFletcher J Sturm/HOU/ECT@ECT, Scott Neal/HOU/ECT@ECT\\ncc:  \\nSubject: Gas Physical/Financial Position\\n\\nI have scheduled and entered on each of your calendars a meeting for the \\nabove referenced topic.  It will take place on Thursday, 9/28 from 3:00 - \\n4:00 in Room EB2537.  \\n\"\\n\"allen-p/_sent_mail/123.\",\"Message-ID: <19330146.1075855687961.JavaMail.evans@thyme>\\nDate: Tue, 26 Sep 2000 04:57:00 -0700 (PDT)\\nFrom: phillip.allen@enron.com\\nTo: jsmith@austintx.com\\nSubject: closing\\nMime-Version: 1.0\\nContent-Type: text/plain; charset=ANSI_X3.4-1968\\nContent-Transfer-Encoding: 7bit\\nX-From: Phillip K Allen\\nX-To: jsmith@austintx.com\\nX-cc: \\nX-bcc: \\nX-Folder: \\\\Phillip_Allen_Dec2000\\\\Notes Folders\\\\\\'sent mail\\nX-Origin: Allen-P\\nX-FileName: pallen.nsf\\n\\n---------------------- Forwarded by Phillip K Allen/HOU/ECT on 09/26/2000 \\n11:57 AM ---------------------------\\n\\n\\n\"\"BS Stone\"\" <bs_stone@yahoo.com> on 09/26/2000 04:47:40 AM\\nTo: \"\"jeff\"\" <jeff@freeyellow.com>\\ncc: \"\"Phillip K Allen\"\" <Phillip.K.Allen@enron.com> \\nSubject: closing\\n\\n\\n\\nJeff, \\n?\\nIs the closing today?? After reviewing the  agreement?I find it isn\\'t binding \\nas far as I can determine.? It is  too vague and it doesn\\'t sound like \\nanything an attorney or title company  would?draft for a real estate \\nclosing--but, of course, I could be  wrong.? \\n?\\nIf this?closing is going to take place without  this agreement then there is \\nno point in me  following up on this?document\\'s validity.? \\n?\\nI will just need to go back to my closing documents  and see what\\'s there and \\nfind out where I am with that and deal with this as  best I can.\\n?\\nI guess I was expecting something that would be an  exhibit to a recordable \\ndocument or something a little more exact, or  rather?sort of a contract.? \\nThis isn\\'t either.? I tried to get a  real estate atty on the phone last \\nnight but he was out of pocket.? I  talked to a crim. atty friend and he said \\nthis is out of his area but doesn\\'t  sound binding to him.? \\n?\\nI will go back to mine and Phillip Allen\\'s  transaction?and take a look at \\nthat but as vague and general as this is I  doubt that my signature? is even \\nneeded to complete this transaction.?  I am in after 12 noon if ther'"
     ]
    }
   ],
   "source": [
    "dbutils.fs.head(file_path)"
   ]
  },
  {
   "cell_type": "markdown",
   "metadata": {
    "application/vnd.databricks.v1+cell": {
     "cellMetadata": {
      "byteLimit": 2048000,
      "rowLimit": 10000
     },
     "inputWidgets": {},
     "nuid": "0488077c-2f92-4e90-b6a6-5253defe1daf",
     "showTitle": false,
     "tableResultSettingsMap": {},
     "title": ""
    }
   },
   "source": [
    "\n",
    "### README\n",
    "\n",
    "### Assumptions Made\n",
    "After reviewing the csv file. It is clear that the csv has two headers, a file and message header. The message header is of concern as it holds all the information including To and From field and other metadata relating to the emails. These were assumptions made: \n",
    "\n",
    "- The From field contains the sender email address. \n",
    "- The To field contains the recipient email addresses.\n",
    "- The To field can contain multiple recipient per email. \n",
    "- For an email address to be considered, it needs to be a valid email address. \n",
    "\n",
    "\n",
    "\n",
    "### How The Code Works\n",
    "\n",
    "- Firstly, we read the email CSV file using Spark.read function. We pass the multiLine option to it because by default Spark expects a record to fit into one line. But because emails usually span multiple lines, to ensure that Spark knows this and treats the multiple lines as one record, we pass the multiLine option. After reading this file, we use the printSchema method to print the schema, we have a dataframe with a file and message columns. \n",
    "\n"
   ]
  },
  {
   "cell_type": "code",
   "execution_count": 0,
   "metadata": {
    "application/vnd.databricks.v1+cell": {
     "cellMetadata": {
      "byteLimit": 2048000,
      "rowLimit": 10000
     },
     "inputWidgets": {},
     "nuid": "b35e9686-e027-44b9-9a7d-995837b31150",
     "showTitle": false,
     "tableResultSettingsMap": {},
     "title": ""
    }
   },
   "outputs": [
    {
     "output_type": "stream",
     "name": "stdout",
     "output_type": "stream",
     "text": [
      "root\n |-- file: string (nullable = true)\n |-- message: string (nullable = true)\n\n"
     ]
    }
   ],
   "source": [
    "# Read the CSV: \n",
    "# CSV has headers \"file\" and \"message\"\n",
    "df = spark.read.option(\"multiLine\", True).option(\"header\", True).csv(file_path)\n",
    "\n",
    "df.printSchema()"
   ]
  },
  {
   "cell_type": "markdown",
   "metadata": {
    "application/vnd.databricks.v1+cell": {
     "cellMetadata": {
      "byteLimit": 2048000,
      "rowLimit": 10000
     },
     "inputWidgets": {},
     "nuid": "634965d5-a2b7-421e-b683-129260da9910",
     "showTitle": false,
     "tableResultSettingsMap": {},
     "title": ""
    }
   },
   "source": [
    "\n",
    "- The cell below selects the message column from the dataframe and converts it to an RDD (which is usually a row of objects). We then apply a map function to the row, passing a lambda function that extract the message field. The RDD is then converted to one that just contains the contents of the message field as string. "
   ]
  },
  {
   "cell_type": "code",
   "execution_count": 0,
   "metadata": {
    "application/vnd.databricks.v1+cell": {
     "cellMetadata": {
      "byteLimit": 2048000,
      "rowLimit": 10000
     },
     "inputWidgets": {},
     "nuid": "be46246a-069d-4630-9c19-90c72525a633",
     "showTitle": false,
     "tableResultSettingsMap": {},
     "title": ""
    }
   },
   "outputs": [
    {
     "output_type": "stream",
     "name": "stdout",
     "output_type": "stream",
     "text": [
      "Out[4]: [\"Message-ID: <18782981.1075855378110.JavaMail.evans@thyme>\\nDate: Mon, 14 May 2001 16:39:00 -0700 (PDT)\\nFrom: phillip.allen@enron.com\\nTo: tim.belden@enron.com\\nSubject: \\nMime-Version: 1.0\\nContent-Type: text/plain; charset=us-ascii\\nContent-Transfer-Encoding: 7bit\\nX-From: Phillip K Allen\\nX-To: Tim Belden <Tim Belden/Enron@EnronXGate>\\nX-cc: \\nX-bcc: \\nX-Folder: \\\\Phillip_Allen_Jan2002_1\\\\Allen, Phillip K.\\\\'Sent Mail\\nX-Origin: Allen-P\\nX-FileName: pallen (Non-Privileged).pst\\n\\nHere is our forecast\\n\\n \",\n \"Message-ID: <15464986.1075855378456.JavaMail.evans@thyme>\\nDate: Fri, 4 May 2001 13:51:00 -0700 (PDT)\\nFrom: phillip.allen@enron.com\\nTo: john.lavorato@enron.com\\nSubject: Re:\\nMime-Version: 1.0\\nContent-Type: text/plain; charset=us-ascii\\nContent-Transfer-Encoding: 7bit\\nX-From: Phillip K Allen\\nX-To: John J Lavorato <John J Lavorato/ENRON@enronXgate@ENRON>\\nX-cc: \\nX-bcc: \\nX-Folder: \\\\Phillip_Allen_Jan2002_1\\\\Allen, Phillip K.\\\\'Sent Mail\\nX-Origin: Allen-P\\nX-FileName: pallen (Non-Privileged).pst\\n\\nTraveling to have a business meeting takes the fun out of the trip.  Especially if you have to prepare a presentation.  I would suggest holding the business plan meetings here then take a trip without any formal business meetings.  I would even try and get some honest opinions on whether a trip is even desired or necessary.\\n\\nAs far as the business meetings, I think it would be more productive to try and stimulate discussions across the different groups about what is working and what is not.  Too often the presenter speaks and the others are quiet just waiting for their turn.   The meetings might be better if held in a round table discussion format.  \\n\\nMy suggestion for where to go is Austin.  Play golf and rent a ski boat and jet ski's.  Flying somewhere takes too much time.\\n\",\n \"Message-ID: <24216240.1075855687451.JavaMail.evans@thyme>\\nDate: Wed, 18 Oct 2000 03:00:00 -0700 (PDT)\\nFrom: phillip.allen@enron.com\\nTo: leah.arsdall@enron.com\\nSubject: Re: test\\nMime-Version: 1.0\\nContent-Type: text/plain; charset=us-ascii\\nContent-Transfer-Encoding: 7bit\\nX-From: Phillip K Allen\\nX-To: Leah Van Arsdall\\nX-cc: \\nX-bcc: \\nX-Folder: \\\\Phillip_Allen_Dec2000\\\\Notes Folders\\\\'sent mail\\nX-Origin: Allen-P\\nX-FileName: pallen.nsf\\n\\ntest successful.  way to go!!!\",\n \"Message-ID: <13505866.1075863688222.JavaMail.evans@thyme>\\nDate: Mon, 23 Oct 2000 06:13:00 -0700 (PDT)\\nFrom: phillip.allen@enron.com\\nTo: randall.gay@enron.com\\nSubject: \\nMime-Version: 1.0\\nContent-Type: text/plain; charset=us-ascii\\nContent-Transfer-Encoding: 7bit\\nX-From: Phillip K Allen\\nX-To: Randall L Gay\\nX-cc: \\nX-bcc: \\nX-Folder: \\\\Phillip_Allen_Dec2000\\\\Notes Folders\\\\'sent mail\\nX-Origin: Allen-P\\nX-FileName: pallen.nsf\\n\\nRandy,\\n\\n Can you send me a schedule of the salary and level of everyone in the \\nscheduling group.  Plus your thoughts on any changes that need to be made.  \\n(Patti S for example)\\n\\nPhillip\",\n \"Message-ID: <30922949.1075863688243.JavaMail.evans@thyme>\\nDate: Thu, 31 Aug 2000 05:07:00 -0700 (PDT)\\nFrom: phillip.allen@enron.com\\nTo: greg.piper@enron.com\\nSubject: Re: Hello\\nMime-Version: 1.0\\nContent-Type: text/plain; charset=us-ascii\\nContent-Transfer-Encoding: 7bit\\nX-From: Phillip K Allen\\nX-To: Greg Piper\\nX-cc: \\nX-bcc: \\nX-Folder: \\\\Phillip_Allen_Dec2000\\\\Notes Folders\\\\'sent mail\\nX-Origin: Allen-P\\nX-FileName: pallen.nsf\\n\\nLet's shoot for Tuesday at 11:45.  \"]"
     ]
    }
   ],
   "source": [
    "# Convert DataFrame to an RDD of message: \n",
    "rdd_messages = df.select(\"message\").rdd.map(lambda row: row[\"message\"])\n",
    "\n",
    "rdd_messages.take(5)"
   ]
  },
  {
   "cell_type": "markdown",
   "metadata": {
    "application/vnd.databricks.v1+cell": {
     "cellMetadata": {
      "byteLimit": 2048000,
      "rowLimit": 10000
     },
     "inputWidgets": {},
     "nuid": "4456fa93-63f2-4025-bcf9-5694349256f2",
     "showTitle": false,
     "tableResultSettingsMap": {},
     "title": ""
    }
   },
   "source": [
    "\n",
    "- The cell below is a python function that accepts the message string, and extracts the sender and recipients and validates that they are actual emails. The function returns the sender email and receipient emails as a tuple. "
   ]
  },
  {
   "cell_type": "code",
   "execution_count": 0,
   "metadata": {
    "application/vnd.databricks.v1+cell": {
     "cellMetadata": {
      "byteLimit": 2048000,
      "rowLimit": 10000
     },
     "inputWidgets": {},
     "nuid": "d0043e6d-9d4f-41f0-9e64-39b99ac683b4",
     "showTitle": false,
     "tableResultSettingsMap": {},
     "title": ""
    }
   },
   "outputs": [],
   "source": [
    "from pyspark.sql import SparkSession\n",
    "import re\n",
    "\n",
    "# Regex pattern for validating emails: \n",
    "email_regex = re.compile(r'^[a-zA-Z0-9._%+-]+@[a-zA-Z0-9.-]+\\.[a-zA-Z]{2,}$')\n",
    "\n",
    "# This block defines a function for extracting emails from the To and From field using regex. This function extracts sender and recipient(s). \n",
    "def extract_valid_emails_from_message(message):\n",
    "   \n",
    "    # Check if message is string: \n",
    "    if not isinstance(message, str):n\n",
    "        return None\n",
    "\n",
    "    # Extract the sender only from From:\n",
    "    from_match = re.search(r'^From:\\s*([\\w\\.-]+@[\\w\\.-]+\\.\\w+)', message, re.MULTILINE)\n",
    "    if not from_match:\n",
    "        return None\n",
    "    from_email = from_match.group(1).lower().strip()\n",
    "    if not email_regex.match(from_email):\n",
    "        return None\n",
    "\n",
    "    # Extract recipients from the standard To:\n",
    "    to_match = re.search(r'^To:\\s*(.*)$', message, re.MULTILINE)\n",
    "    recipients = []\n",
    "    if to_match:\n",
    "        to_field = to_match.group(1)\n",
    "        # Use re.findall to extract all valid email addresses from the \"To:\" header line\n",
    "        recipients = [email.lower().strip() \n",
    "                      for email in re.findall(r'[\\w\\.-]+@[\\w\\.-]+\\.\\w+', to_field)\n",
    "                      if email_regex.match(email)\n",
    "                    ]\n",
    "    return (from_email, recipients)\n",
    "\n"
   ]
  },
  {
   "cell_type": "markdown",
   "metadata": {
    "application/vnd.databricks.v1+cell": {
     "cellMetadata": {
      "byteLimit": 2048000,
      "rowLimit": 10000
     },
     "inputWidgets": {},
     "nuid": "45fd4d1c-ee21-4ec2-8626-fee1bd18eed8",
     "showTitle": false,
     "tableResultSettingsMap": {},
     "title": ""
    }
   },
   "source": [
    "\n",
    "- In the cell below, we apply the map function to the RDD. The map function accepts the python function above - `extract_valid_emails_from_message` and filters out items that do not have a value. The `extract_valid_emails_from_message` function returns the sender email address and recipient email addresses as a tuple of this format `(sender, [recipients]) `. This newly transformed RDD is assigned to a new variable. "
   ]
  },
  {
   "cell_type": "code",
   "execution_count": 0,
   "metadata": {
    "application/vnd.databricks.v1+cell": {
     "cellMetadata": {
      "byteLimit": 2048000,
      "rowLimit": 10000
     },
     "inputWidgets": {},
     "nuid": "03b550e5-3fe7-4d54-9bae-0dcd4d903291",
     "showTitle": false,
     "tableResultSettingsMap": {},
     "title": ""
    }
   },
   "outputs": [
    {
     "output_type": "stream",
     "name": "stdout",
     "output_type": "stream",
     "text": [
      "Out[6]: [('phillip.allen@enron.com', ['tim.belden@enron.com']),\n ('phillip.allen@enron.com', ['john.lavorato@enron.com']),\n ('phillip.allen@enron.com', ['leah.arsdall@enron.com'])]"
     ]
    }
   ],
   "source": [
    "# Extract (sender, [recipients]) pairs from each message.\n",
    "# Since email_pairs is used in both senders_rdd and recipients_rdd, caching avoids re-processing.\n",
    "email_pairs_rdd = (rdd_messages.map(extract_valid_emails_from_message)\n",
    "                                  .filter(lambda x: x is not None)\n",
    "                                  .cache())  # Cache for reuse\n",
    "email_pairs_rdd.take(3)"
   ]
  },
  {
   "cell_type": "markdown",
   "metadata": {
    "application/vnd.databricks.v1+cell": {
     "cellMetadata": {
      "byteLimit": 2048000,
      "rowLimit": 10000
     },
     "inputWidgets": {},
     "nuid": "1b3801d6-3daf-474c-acc3-98ccfbe2cc1b",
     "showTitle": false,
     "tableResultSettingsMap": {},
     "title": ""
    }
   },
   "source": [
    "- In the cell below, we extract the senders email addresses from the RDD above. We also do a count of all email addresses using the reduceByKey function and assign this newly transformed RDD to a variable. "
   ]
  },
  {
   "cell_type": "code",
   "execution_count": 0,
   "metadata": {
    "application/vnd.databricks.v1+cell": {
     "cellMetadata": {
      "byteLimit": 2048000,
      "rowLimit": 10000
     },
     "inputWidgets": {},
     "nuid": "25140b88-8240-40bf-ad48-379420bb4700",
     "showTitle": false,
     "tableResultSettingsMap": {},
     "title": ""
    }
   },
   "outputs": [
    {
     "output_type": "stream",
     "name": "stdout",
     "output_type": "stream",
     "text": [
      "Out[7]: [('phillip.allen@enron.com', 2195),\n ('ina.rangel@enron.com', 404),\n ('1.11913372.-2@multexinvestornetwork.com', 3),\n ('messenger@ecm.bloomberg.com', 26),\n ('aod@newsdata.com', 17),\n ('critical.notice@enron.com', 24),\n ('market-reply@listserv.dowjones.com', 3),\n ('rebecca.cantrell@enron.com', 217),\n ('webmaster@earnings.com', 27),\n ('paul.kaufman@enron.com', 389),\n ('yild@zdemail.zdlists.com', 3),\n ('bounce-news-932653@lists.autoweb.com', 3),\n ('public.relations@enron.com', 412),\n ('stephanie.miller@enron.com', 311),\n ('tracy.arthur@enron.com', 9),\n ('sarah.novosel@enron.com', 565),\n ('bobregon@bga.com', 3),\n ('subscriptions@intelligencepress.com', 42),\n ('tim.heizenrader@enron.com', 89),\n ('rob_tom@freenet.carleton.ca', 3)]"
     ]
    }
   ],
   "source": [
    "# Build an RDD of senders with the total count of emails sent.\n",
    "senders_rdd = email_pairs_rdd.map(lambda x: (x[0], 1)).reduceByKey(lambda a, b: a + b)\n",
    "\n",
    "senders_rdd.take(20)"
   ]
  },
  {
   "cell_type": "markdown",
   "metadata": {
    "application/vnd.databricks.v1+cell": {
     "cellMetadata": {
      "byteLimit": 2048000,
      "rowLimit": 10000
     },
     "inputWidgets": {},
     "nuid": "dc98affe-71c3-49f3-bb64-7c0b4291a68c",
     "showTitle": false,
     "tableResultSettingsMap": {},
     "title": ""
    }
   },
   "source": [
    "\n",
    "- In the cell below, we get the recipient email addresses from the RDD that returns a tuple of sender and recipients where recipients is a list of email addresses. The flatMap returns each email address as an individual element and the map function transforms each email address to a key value pair, selecting all unique recipients using the distinct function. Assigning a value of 1 to each email address allows Spark to easily group all emails together and count them in the future. "
   ]
  },
  {
   "cell_type": "code",
   "execution_count": 0,
   "metadata": {
    "application/vnd.databricks.v1+cell": {
     "cellMetadata": {
      "byteLimit": 2048000,
      "rowLimit": 10000
     },
     "inputWidgets": {},
     "nuid": "42aa8724-a66d-427a-a390-955f33c162b7",
     "showTitle": false,
     "tableResultSettingsMap": {},
     "title": ""
    }
   },
   "outputs": [
    {
     "output_type": "stream",
     "name": "stdout",
     "output_type": "stream",
     "text": [
      "Out[8]: [('tim.belden@enron.com', 1),\n ('john.lavorato@enron.com', 1),\n ('leah.arsdall@enron.com', 1),\n ('randall.gay@enron.com', 1),\n ('greg.piper@enron.com', 1),\n ('david.l.johnson@enron.com', 1),\n ('john.shafer@enron.com', 1),\n ('joyce.teixeira@enron.com', 1),\n ('mark.scott@enron.com', 1),\n ('zimam@enron.com', 1),\n ('buck.buckner@honeywell.com', 1),\n ('stagecoachmama@hotmail.com', 1),\n ('keith.holst@enron.com', 1),\n ('david.delainey@enron.com', 1),\n ('paula.harris@enron.com', 1),\n ('ina.rangel@enron.com', 1),\n ('tim.heizenrader@enron.com', 1),\n ('pallen70@hotmail.com', 1),\n ('bs_stone@yahoo.com', 1),\n ('stouchstone@natsource.com', 1)]"
     ]
    }
   ],
   "source": [
    "\n",
    "# Build an RDD of recipients by flattening the list of recipients from each record.\n",
    "recipients_rdd = email_pairs_rdd.flatMap(lambda x: x[1]) \\\n",
    "                                .map(lambda email: (email, 1)) \\\n",
    "                                .distinct()\n",
    "\n",
    "recipients_rdd.take(20)"
   ]
  },
  {
   "cell_type": "markdown",
   "metadata": {
    "application/vnd.databricks.v1+cell": {
     "cellMetadata": {
      "byteLimit": 2048000,
      "rowLimit": 10000
     },
     "inputWidgets": {},
     "nuid": "e814780f-0d7a-4ec7-a06d-ab3009d52670",
     "showTitle": false,
     "tableResultSettingsMap": {},
     "title": ""
    }
   },
   "source": [
    "- The cell below removes all senders that appears in the recipient RDD. This ensures that that the `senders_only_rdd` RDD only contains sender email addresses that never received an email."
   ]
  },
  {
   "cell_type": "code",
   "execution_count": 0,
   "metadata": {
    "application/vnd.databricks.v1+cell": {
     "cellMetadata": {
      "byteLimit": 2048000,
      "rowLimit": 10000
     },
     "inputWidgets": {},
     "nuid": "c94f7ced-6590-4b2d-821f-5384d0a296d3",
     "showTitle": false,
     "tableResultSettingsMap": {},
     "title": ""
    }
   },
   "outputs": [
    {
     "output_type": "stream",
     "name": "stdout",
     "output_type": "stream",
     "text": [
      "Out[9]: [('market-reply@listserv.dowjones.com', 3),\n ('bobregon@bga.com', 3),\n ('subscriptions@intelligencepress.com', 42),\n ('ei_editor@ftenergy.com', 62),\n ('billc@greenbuilder.com', 3),\n ('matt@fastpacket.net', 3),\n ('jfreeman@ssm.net', 3),\n ('grensheltr@aol.com', 3),\n ('outlook-migration-team@enron.com', 225),\n ('ei_editor@platts.com', 38),\n ('anchordesk_daily@anchordesk.zdlists.com', 20),\n ('noreply@ccomad3.uu.commissioner.com', 877),\n ('edelivery@salomonsmithbarney.com', 5),\n ('showtimes@amazon.com', 19),\n ('dmallory@ftenergy.com', 7),\n ('important_phone_call@response.etracks.com', 1),\n ('bmg_support@adm.chtah.com', 2),\n ('gifts@info.iwon.com', 5),\n ('unsubscribe-i@networkpromotion.com', 4),\n ('e-mail.center@wsj.com', 20)]"
     ]
    }
   ],
   "source": [
    "\n",
    "# Remove any sender that appears in the recipients RDD.\n",
    "senders_only_rdd = senders_rdd.subtractByKey(recipients_rdd)\n",
    "\n",
    "senders_only_rdd.take(20)"
   ]
  },
  {
   "cell_type": "markdown",
   "metadata": {
    "application/vnd.databricks.v1+cell": {
     "cellMetadata": {
      "byteLimit": 2048000,
      "rowLimit": 10000
     },
     "inputWidgets": {},
     "nuid": "cf079f6d-068c-4351-b65f-4624c5408e93",
     "showTitle": false,
     "tableResultSettingsMap": {},
     "title": ""
    }
   },
   "source": [
    "- In the cell below, we apply the takeOrdered function to the `senders_only_rdd`. The takeOrdered function by default returns the smallest items first. We pass a lambda function to it so it sorts the RDD in descending order so we can pick the top 10 senders that are not recipients. "
   ]
  },
  {
   "cell_type": "code",
   "execution_count": 0,
   "metadata": {
    "application/vnd.databricks.v1+cell": {
     "cellMetadata": {
      "byteLimit": 2048000,
      "rowLimit": 10000
     },
     "inputWidgets": {},
     "nuid": "bb780e10-6ee3-4733-af87-c149702b3bb7",
     "showTitle": false,
     "tableResultSettingsMap": {},
     "title": ""
    }
   },
   "outputs": [
    {
     "output_type": "stream",
     "name": "stdout",
     "output_type": "stream",
     "text": [
      "[('no.address@enron.com', 5112), ('noreply@ccomad3.uu.commissioner.com', 877), ('owner-nyiso_tech_exchange@lists.thebiz.net', 712), ('owner-eveningmba@haas.berkeley.edu', 508), ('exchange.administrator@enron.com', 455), ('wsmith@wordsmith.org', 454), ('fool@motleyfool.com', 417), ('nytdirect@nytimes.com', 348), ('ecenter@williams.com', 340), ('pmadpr@worldnet.att.net', 317)]\n"
     ]
    }
   ],
   "source": [
    "\n",
    "# Get the top 10 senders (by sent count) among those who never received an email.\n",
    "top_10_senders = senders_only_rdd.takeOrdered(10, key=lambda x: -x[1])\n",
    "\n",
    "print(top_10_senders)"
   ]
  },
  {
   "cell_type": "markdown",
   "metadata": {
    "application/vnd.databricks.v1+cell": {
     "cellMetadata": {
      "byteLimit": 2048000,
      "rowLimit": 10000
     },
     "inputWidgets": {},
     "nuid": "d55732f8-72b7-410d-91fa-2170c2a7fcf9",
     "showTitle": false,
     "tableResultSettingsMap": {},
     "title": ""
    }
   },
   "source": [
    "- The cell below converts the RDD back to a dataframe of column sender and count. This step is just to allow us easily visualize the data. "
   ]
  },
  {
   "cell_type": "code",
   "execution_count": 0,
   "metadata": {
    "application/vnd.databricks.v1+cell": {
     "cellMetadata": {
      "byteLimit": 2048000,
      "rowLimit": 10000
     },
     "inputWidgets": {},
     "nuid": "0152bfb5-b792-452f-9323-3148a5e2c3af",
     "showTitle": false,
     "tableResultSettingsMap": {},
     "title": ""
    }
   },
   "outputs": [
    {
     "output_type": "stream",
     "name": "stdout",
     "output_type": "stream",
     "text": [
      "+--------------------+-----+\n|              sender|count|\n+--------------------+-----+\n|no.address@enron.com| 5112|\n|noreply@ccomad3.u...|  877|\n|owner-nyiso_tech_...|  712|\n|owner-eveningmba@...|  508|\n|exchange.administ...|  455|\n|wsmith@wordsmith.org|  454|\n| fool@motleyfool.com|  417|\n|nytdirect@nytimes...|  348|\n|ecenter@williams.com|  340|\n|pmadpr@worldnet.a...|  317|\n+--------------------+-----+\n\n"
     ]
    }
   ],
   "source": [
    "\n",
    "# Convert the RDD (list of tuples) to a DataFrame with columns \"sender\" and \"count\"\n",
    "df_top_10_senders = spark.createDataFrame(top_10_senders, [\"sender\", \"count\"])\n",
    "\n",
    "# Print the DataFrame\n",
    "df_top_10_senders.show()\n"
   ]
  },
  {
   "cell_type": "code",
   "execution_count": 0,
   "metadata": {
    "application/vnd.databricks.v1+cell": {
     "cellMetadata": {
      "byteLimit": 2048000,
      "rowLimit": 10000
     },
     "inputWidgets": {},
     "nuid": "dbd683ce-6b11-4fad-8655-cd3b26b12b6c",
     "showTitle": false,
     "tableResultSettingsMap": {},
     "title": ""
    }
   },
   "outputs": [],
   "source": []
  }
 ],
 "metadata": {
  "application/vnd.databricks.v1+notebook": {
   "computePreferences": null,
   "dashboards": [],
   "environmentMetadata": {
    "base_environment": "",
    "client": "1"
   },
   "language": "python",
   "notebookMetadata": {
    "pythonIndentUnit": 4
   },
   "notebookName": "Emails Analysis",
   "widgets": {}
  }
 },
 "nbformat": 4,
 "nbformat_minor": 0
}
